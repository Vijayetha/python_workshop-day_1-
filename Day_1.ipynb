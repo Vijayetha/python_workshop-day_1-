{
 "cells": [
  {
   "cell_type": "code",
   "execution_count": 7,
   "metadata": {},
   "outputs": [
    {
     "name": "stdout",
     "output_type": "stream",
     "text": [
      "Enter v5\n",
      "Enter t2\n",
      "Enter g6\n",
      "-2.0\n"
     ]
    }
   ],
   "source": [
    "import math\n",
    "v=int(input(\"Enter v\"))\n",
    "t=int(input(\"Enter t\"))\n",
    "g=int(input(\"Enter g\"))\n",
    "i=v*t;\n",
    "j=0.5*g*math.pow(t,2);\n",
    "print(i-j)"
   ]
  },
  {
   "cell_type": "code",
   "execution_count": 11,
   "metadata": {},
   "outputs": [
    {
     "name": "stdout",
     "output_type": "stream",
     "text": [
      "10\n",
      "18.0\n",
      "18.0\n"
     ]
    }
   ],
   "source": [
    "print(int(9/5)*10)\n",
    "print(9.0/5*10)\n",
    "print(9./5*10)\n"
   ]
  },
  {
   "cell_type": "code",
   "execution_count": 17,
   "metadata": {},
   "outputs": [
    {
     "name": "stdout",
     "output_type": "stream",
     "text": [
      "0.8939966636005579\n",
      "1.0986122886681098\n",
      "1.4142135623730951\n"
     ]
    }
   ],
   "source": [
    "import math\n",
    "print(math.sin(90))\n",
    "print(math.log(3))\n",
    "print(math.sqrt(2))"
   ]
  },
  {
   "cell_type": "code",
   "execution_count": 27,
   "metadata": {},
   "outputs": [
    {
     "name": "stdout",
     "output_type": "stream",
     "text": [
      "0\n",
      "False\n",
      "True\n",
      "False\n"
     ]
    }
   ],
   "source": [
    "x = 0\n",
    "y = 1.2 \n",
    "print(x and y)\n",
    "print(x>0 and y<=1)\n",
    "print(x>0 or y>1)\n",
    "print(x>0 or not y>1)"
   ]
  },
  {
   "cell_type": "code",
   "execution_count": 21,
   "metadata": {},
   "outputs": [
    {
     "name": "stdout",
     "output_type": "stream",
     "text": [
      "-4.0 -15\n",
      "5.0 -10\n",
      "14.0 -5\n",
      "23.0 0\n",
      "32.0 5\n",
      "41.0 10\n",
      "50.0 15\n",
      "59.0 20\n",
      "68.0 25\n",
      "77.0 30\n",
      "86.0 35\n",
      "95.0 40\n",
      "104.0 45\n"
     ]
    }
   ],
   "source": [
    "C = -20 # start value for C \n",
    "dC = 5 # increment of C in loop \n",
    "while C <= 40: # loop condition and statemenst with identation \n",
    "    F = (9.0/5)*C + 32 # 1st statement inside loop print C, \n",
    "    print(F,end=\" \")   # 2nd statement inside loop\n",
    "    C = C + dC        # 3rd statement inside loop \n",
    "    print (C)         # end of table line (after loop) "
   ]
  },
  {
   "cell_type": "code",
   "execution_count": 31,
   "metadata": {},
   "outputs": [
    {
     "name": "stdout",
     "output_type": "stream",
     "text": [
      "True\n",
      "True\n",
      "False\n",
      "true\n"
     ]
    }
   ],
   "source": [
    "s=\"Hello World\"\n",
    "s1=\"Hello World\"\n",
    "print('H'in s)\n",
    "print(\"hello\" not in s)\n",
    "print(s is s1)\n",
    "if s==s1:\n",
    "    print(\"true\")\n",
    "else:\n",
    "    print(\"false\")"
   ]
  },
  {
   "cell_type": "code",
   "execution_count": 37,
   "metadata": {},
   "outputs": [
    {
     "name": "stdout",
     "output_type": "stream",
     "text": [
      "Enter element into list90\n",
      "90\n",
      "90\n",
      "90\n"
     ]
    }
   ],
   "source": [
    "list=[]\n",
    "list.append(input(\"Enter element into list\"));\n",
    "for item in list:\n",
    "    print(item)\n",
    "for i in range(0,len(list)):\n",
    "    print(list[i])\n",
    "for i in range(len(list)-1,-1,-1):\n",
    "    print(list[i])\n",
    "    "
   ]
  },
  {
   "cell_type": "code",
   "execution_count": null,
   "metadata": {
    "collapsed": true
   },
   "outputs": [],
   "source": [
    "infile = open(’data.txt’, ’r’) \n",
    "for line in infile: \n",
    "    # do something with line \n",
    "#or another way is to read all lines and put them into a list\n",
    "lines=[]\n",
    "lines = infile.readlines()"
   ]
  },
  {
   "cell_type": "code",
   "execution_count": 41,
   "metadata": {},
   "outputs": [
    {
     "ename": "SyntaxError",
     "evalue": "invalid syntax (<ipython-input-41-2ef698b64672>, line 1)",
     "output_type": "error",
     "traceback": [
      "\u001b[1;36m  File \u001b[1;32m\"<ipython-input-41-2ef698b64672>\"\u001b[1;36m, line \u001b[1;32m1\u001b[0m\n\u001b[1;33m    x = 1;x = 1. ;x = 1; x = 1:; x = 1;\u001b[0m\n\u001b[1;37m                              ^\u001b[0m\n\u001b[1;31mSyntaxError\u001b[0m\u001b[1;31m:\u001b[0m invalid syntax\n"
     ]
    }
   ],
   "source": [
    "x = 1;x = 1. ;x = 1; x = 1:; x = 1;"
   ]
  },
  {
   "cell_type": "code",
   "execution_count": 45,
   "metadata": {},
   "outputs": [
    {
     "name": "stdout",
     "output_type": "stream",
     "text": [
      "-30.0 -22.00\n",
      "-20.0 -4.00\n",
      "-10.0 14.00\n",
      "  0.0 32.00\n",
      " 10.0 50.00\n",
      " 20.0 68.00\n",
      " 30.0 86.00\n",
      " 40.0 104.00\n",
      " 50.0 122.00\n"
     ]
    }
   ],
   "source": [
    "def F(C):\n",
    "    F = 9./5*C + 32 \n",
    "    return F \n",
    "dC = 10 \n",
    "C = -30 \n",
    "while C <= 50: \n",
    "     print ('%5.1f %.2f' % (C, F(C)))\n",
    "     C += dC"
   ]
  },
  {
   "cell_type": "code",
   "execution_count": 51,
   "metadata": {},
   "outputs": [
    {
     "name": "stdout",
     "output_type": "stream",
     "text": [
      "global a value 20\n",
      "a value in f2 22\n",
      "f1 value 23\n",
      "f2 value 20\n"
     ]
    }
   ],
   "source": [
    "a=20;\n",
    "b=2;\n",
    "def f1():\n",
    "    a=21;\n",
    "    return a+b;\n",
    "print(\"global a value\",a);\n",
    "def f2():\n",
    "    global a;\n",
    "    a=22;\n",
    "    print(\"a value in f2\",a);\n",
    "    return a-b;\n",
    "t1=f1()\n",
    "t2=f2()\n",
    "print(\"f1 value\",t1)\n",
    "print(\"f2 value\",t2)\n"
   ]
  },
  {
   "cell_type": "code",
   "execution_count": 53,
   "metadata": {},
   "outputs": [
    {
     "name": "stdout",
     "output_type": "stream",
     "text": [
      "0.9092974268256817\n"
     ]
    }
   ],
   "source": [
    "from math import pi,sin\n",
    "def f(x): \n",
    "    if 0 <= x <= pi:\n",
    "        value = sin(x) \n",
    "    else: \n",
    "        value = 0 \n",
    "    return value\n",
    "print(f(2))"
   ]
  },
  {
   "cell_type": "raw",
   "metadata": {},
   "source": []
  },
  {
   "cell_type": "code",
   "execution_count": 57,
   "metadata": {},
   "outputs": [
    {
     "name": "stdout",
     "output_type": "stream",
     "text": [
      "List of mixed data types ['a', 'b', 0, 1, 2]\n",
      "list1  [1, 2, 3, 4]\n",
      "Element in list1 at index 0 1\n",
      "Changing list1[0]  [11, 2, 3, 4]\n",
      "Length of list1 4\n",
      "concatenating l1 [10, 12, 14] and [11, 13, 15] i.e. l1+l2 [10, 12, 14, 11, 13, 15]\n",
      "l1 [1, 2] l1*3 [1, 2, 1, 2, 1, 2]\n"
     ]
    },
    {
     "ename": "IndexError",
     "evalue": "list index out of range",
     "output_type": "error",
     "traceback": [
      "\u001b[1;31m---------------------------------------------------------------------------\u001b[0m",
      "\u001b[1;31mIndexError\u001b[0m                                Traceback (most recent call last)",
      "\u001b[1;32m<ipython-input-57-bc7a08fa407b>\u001b[0m in \u001b[0;36m<module>\u001b[1;34m()\u001b[0m\n\u001b[0;32m     26\u001b[0m \u001b[1;33m\u001b[0m\u001b[0m\n\u001b[0;32m     27\u001b[0m \u001b[1;31m#Accessing an out of range list element\u001b[0m\u001b[1;33m\u001b[0m\u001b[1;33m\u001b[0m\u001b[0m\n\u001b[1;32m---> 28\u001b[1;33m \u001b[0mlist1\u001b[0m\u001b[1;33m[\u001b[0m\u001b[1;36m6\u001b[0m\u001b[1;33m]\u001b[0m\u001b[1;33m\u001b[0m\u001b[0m\n\u001b[0m",
      "\u001b[1;31mIndexError\u001b[0m: list index out of range"
     ]
    }
   ],
   "source": [
    "#Creating a list\n",
    "dummy = ['a','b',0,1,2]\n",
    "print(\"List of mixed data types\",dummy)\n",
    "\n",
    "list1 = [1,2,3,4]\n",
    "print(\"list1 \",list1)\n",
    "\n",
    "#Accessing a list element by its index\n",
    "print(\"Element in list1 at index 0\", list1[0])\n",
    "\n",
    "#Changing the value of an element in list\n",
    "list1[0] = 11\n",
    "print(\"Changing list1[0] \",list1)\n",
    "\n",
    "#Length of a list\n",
    "print(\"Length of list1\", len(list1))\n",
    "\n",
    "#concating lists\n",
    "l1 = [10,12,14]\n",
    "l2 = [11,13,15]\n",
    "print(\"concatenating l1\",l1, \"and\", l2,\"i.e. l1+l2\",l1+l2)\n",
    "\n",
    "#repetition of list\n",
    "l1 = [1,2]\n",
    "print(\"l1\", l1, \"l1*3\", l1*3)\n",
    "\n",
    "#Accessing an out of range list element\n",
    "list1[6]\n"
   ]
  },
  {
   "cell_type": "code",
   "execution_count": 58,
   "metadata": {},
   "outputs": [
    {
     "name": "stdout",
     "output_type": "stream",
     "text": [
      "('November', 2017)\n",
      "Element in tuple at index 0: November\n"
     ]
    }
   ],
   "source": [
    "tuple1 = (\"November\", 2017)\n",
    "print(tuple1)\n",
    "#Accessing a tuple element by its index\n",
    "print(\"Element in tuple at index 0:\",tuple1[0])\n",
    "\n"
   ]
  },
  {
   "cell_type": "code",
   "execution_count": 59,
   "metadata": {},
   "outputs": [
    {
     "ename": "TypeError",
     "evalue": "'tuple' object does not support item assignment",
     "output_type": "error",
     "traceback": [
      "\u001b[1;31m---------------------------------------------------------------------------\u001b[0m",
      "\u001b[1;31mTypeError\u001b[0m                                 Traceback (most recent call last)",
      "\u001b[1;32m<ipython-input-59-29645a029fef>\u001b[0m in \u001b[0;36m<module>\u001b[1;34m()\u001b[0m\n\u001b[1;32m----> 1\u001b[1;33m \u001b[0mtuple1\u001b[0m\u001b[1;33m[\u001b[0m\u001b[1;36m0\u001b[0m\u001b[1;33m]\u001b[0m \u001b[1;33m=\u001b[0m \u001b[1;34m\"change\"\u001b[0m\u001b[1;33m\u001b[0m\u001b[0m\n\u001b[0m\u001b[0;32m      2\u001b[0m \u001b[0mprint\u001b[0m\u001b[1;33m(\u001b[0m\u001b[0mtuple1\u001b[0m\u001b[1;33m)\u001b[0m\u001b[1;33m\u001b[0m\u001b[0m\n",
      "\u001b[1;31mTypeError\u001b[0m: 'tuple' object does not support item assignment"
     ]
    }
   ],
   "source": [
    "tuple1[0] = \"change\"\n",
    "print(tuple1)"
   ]
  },
  {
   "cell_type": "code",
   "execution_count": 60,
   "metadata": {},
   "outputs": [
    {
     "name": "stdout",
     "output_type": "stream",
     "text": [
      "(1, 2, 3, 4)\n"
     ]
    }
   ],
   "source": [
    "list = [1,2,3,4]\n",
    "atuple = tuple(list)\n",
    "print(atuple)"
   ]
  },
  {
   "cell_type": "code",
   "execution_count": 61,
   "metadata": {},
   "outputs": [
    {
     "name": "stdout",
     "output_type": "stream",
     "text": [
      "Dictionary  {'Language': 'Python', 'Version': 2.7}\n",
      "dict['Language']:  Python\n",
      "dict['Version']:  2.7\n",
      "Dictionary after addition {'Language': 'Python', 'Version': 3.5, 'Jupyter': 'Notebook'}\n",
      "Length : 3\n",
      "Keys:  dict_keys(['Language', 'Version', 'Jupyter'])\n",
      "Values:  dict_values(['Python', 3.5, 'Notebook'])\n",
      "(Key, Value):  dict_items([('Language', 'Python'), ('Version', 3.5), ('Jupyter', 'Notebook')])\n"
     ]
    }
   ],
   "source": [
    "#creating a dictionary\n",
    "dict = {'Language': 'Python', 'Version': 2.7}\n",
    "\n",
    "#printing dictionary\n",
    "print(\"Dictionary \",dict)\n",
    "\n",
    "#accessing a dictionary using key\n",
    "print(\"dict['Language']: \", dict['Language'])\n",
    "print(\"dict['Version']: \", dict['Version'])\n",
    "\n",
    "#updating a dictionary\n",
    "dict['Version'] = 3.5\n",
    "\n",
    "#adding a new value \n",
    "dict['Jupyter'] = 'Notebook'\n",
    "print(\"Dictionary after addition\",dict)\n",
    "\n",
    "#length of dictionary\n",
    "print(\"Length :\",len(dict))\n",
    "\n",
    "#printing keys of dictionary\n",
    "print(\"Keys: \", dict.keys())\n",
    "\n",
    "#printing values of dictionary\n",
    "print(\"Values: \",dict.values())\n",
    "\n",
    "#printing key:value pairs of dictionary\n",
    "print(\"(Key, Value): \",dict.items())"
   ]
  },
  {
   "cell_type": "code",
   "execution_count": 62,
   "metadata": {},
   "outputs": [
    {
     "name": "stdout",
     "output_type": "stream",
     "text": [
      "Dictionary after deletion {'Language': 'Python', 'Jupyter': 'Notebook'}\n",
      "Dictionary after clear()  {}\n",
      "Deleted dictionary <class 'dict'>\n"
     ]
    }
   ],
   "source": [
    "del dict['Version']\n",
    "print(\"Dictionary after deletion\",dict)\n",
    "\n",
    "#removing all enteries \n",
    "dict.clear()\n",
    "print(\"Dictionary after clear() \",dict)\n",
    "\n",
    "#delete entire dictionary\n",
    "del dict\n",
    "print(\"Deleted dictionary\",dict)"
   ]
  },
  {
   "cell_type": "code",
   "execution_count": 63,
   "metadata": {},
   "outputs": [
    {
     "name": "stdout",
     "output_type": "stream",
     "text": [
      "Dictionary  {1: 1, 2: 4, 3: 9, 4: 16, 5: 25, 6: 36, 7: 49, 8: 64, 9: 81, 10: 100}\n"
     ]
    }
   ],
   "source": [
    "#Creating a dictionary with key and values as i:i**i\n",
    "d = {i:i**2 for i in range(1,11)}\n",
    "print(\"Dictionary \",d)"
   ]
  },
  {
   "cell_type": "code",
   "execution_count": 68,
   "metadata": {},
   "outputs": [
    {
     "name": "stdout",
     "output_type": "stream",
     "text": [
      "cbbbdaabca\n"
     ]
    }
   ],
   "source": [
    "import random \n",
    "alphabet=[]\n",
    "str=\"abcd\"\n",
    "for i in range(0,len(str)):\n",
    "    alphabet.append(str[i])\n",
    "dna = [random.choice(alphabet) for i in range(10)] \n",
    "dna = ''.join(dna) # join the list elements to a string\n",
    "print(dna)"
   ]
  },
  {
   "cell_type": "code",
   "execution_count": null,
   "metadata": {
    "collapsed": true
   },
   "outputs": [],
   "source": []
  }
 ],
 "metadata": {
  "kernelspec": {
   "display_name": "Python 3",
   "language": "python",
   "name": "python3"
  },
  "language_info": {
   "codemirror_mode": {
    "name": "ipython",
    "version": 3
   },
   "file_extension": ".py",
   "mimetype": "text/x-python",
   "name": "python",
   "nbconvert_exporter": "python",
   "pygments_lexer": "ipython3",
   "version": "3.6.2"
  }
 },
 "nbformat": 4,
 "nbformat_minor": 2
}
